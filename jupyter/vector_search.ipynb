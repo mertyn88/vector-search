{
 "cells": [
  {
   "cell_type": "code",
   "execution_count": 1,
   "metadata": {},
   "outputs": [],
   "source": [
    "# Set Import\n",
    "from elasticsearch import Elasticsearch\n",
    "import pandas\n",
    "from nltk.tokenize import RegexpTokenizer\n",
    "from gensim.models.doc2vec import Doc2Vec, TaggedDocument\n",
    "from pynori.korean_analyzer import KoreanAnalyzer"
   ]
  },
  {
   "cell_type": "code",
   "execution_count": 2,
   "metadata": {},
   "outputs": [
    {
     "name": "stdout",
     "output_type": "stream",
     "text": [
      "['아빠', '방']\n"
     ]
    }
   ],
   "source": [
    "# Set Nori Analyzer\n",
    "nori = KoreanAnalyzer(\n",
    "           decompound_mode='DISCARD', # DISCARD or MIXED or NONE\n",
    "           infl_decompound_mode='DISCARD', # DISCARD or MIXED or NONE\n",
    "           discard_punctuation=True,\n",
    "           output_unknown_unigrams=False,\n",
    "           synonym_filter=False, mode_synonym='NORM', # NORM or EXTENSION\n",
    ")\n",
    "\n",
    "# NNG, NNP (명사, 대명사) filter\n",
    "def _filter(term):\n",
    "    result = []\n",
    "    for _idx, _tag in enumerate(term['posTagAtt']):\n",
    "        if _tag in ['NNG', 'NNP']:\n",
    "            result.append(term['termAtt'][_idx])\n",
    "    return result\n",
    "\n",
    "# Analyzer\n",
    "def _do_analysis(text):\n",
    "    return _filter(nori.do_analysis(text))\n",
    "\n",
    "# 띄어쓰기 Tokenizer\n",
    "def _nltk_tokenizer(_wd):\n",
    "  return RegexpTokenizer(r'\\w+').tokenize(_wd.lower())\n",
    "\n",
    "print(_do_analysis(\"아빠가 방에 들어가신다.\"))"
   ]
  },
  {
   "cell_type": "code",
   "execution_count": 8,
   "metadata": {},
   "outputs": [
    {
     "data": {
      "text/plain": "   seq        title        description              token_description\n0    0       어답산관광지          병지방계곡,캠핑장               [병지방, 계곡, 캠, 핑장]\n1    1      유현문화관광지  풍수원성당, 유물전시관, 산책로  [풍, 수원, 성당, 유물, 전시, 관, 산책, 로]\n2    2  웰리힐리파크 관광단지  스키장, 골프장, 곤돌라, 콘도         [스키, 장, 골프, 장, 곤돌라, 콘]",
      "text/html": "<div>\n<style scoped>\n    .dataframe tbody tr th:only-of-type {\n        vertical-align: middle;\n    }\n\n    .dataframe tbody tr th {\n        vertical-align: top;\n    }\n\n    .dataframe thead th {\n        text-align: right;\n    }\n</style>\n<table border=\"1\" class=\"dataframe\">\n  <thead>\n    <tr style=\"text-align: right;\">\n      <th></th>\n      <th>seq</th>\n      <th>title</th>\n      <th>description</th>\n      <th>token_description</th>\n    </tr>\n  </thead>\n  <tbody>\n    <tr>\n      <th>0</th>\n      <td>0</td>\n      <td>어답산관광지</td>\n      <td>병지방계곡,캠핑장</td>\n      <td>[병지방, 계곡, 캠, 핑장]</td>\n    </tr>\n    <tr>\n      <th>1</th>\n      <td>1</td>\n      <td>유현문화관광지</td>\n      <td>풍수원성당, 유물전시관, 산책로</td>\n      <td>[풍, 수원, 성당, 유물, 전시, 관, 산책, 로]</td>\n    </tr>\n    <tr>\n      <th>2</th>\n      <td>2</td>\n      <td>웰리힐리파크 관광단지</td>\n      <td>스키장, 골프장, 곤돌라, 콘도</td>\n      <td>[스키, 장, 골프, 장, 곤돌라, 콘]</td>\n    </tr>\n  </tbody>\n</table>\n</div>"
     },
     "execution_count": 8,
     "metadata": {},
     "output_type": "execute_result"
    }
   ],
   "source": [
    "# Set frame\n",
    "frame = pandas.read_csv('../data/travel.csv', encoding='utf-8').fillna('')\n",
    "frame = frame.query(\"description != ''\")\n",
    "frame = frame.reset_index(drop=False)\n",
    "frame['token_description'] = frame['description'].apply(_do_analysis)\n",
    "# Token length > 0 filter\n",
    "frame = frame.query(\"token_description.str.len() > 0\")\n",
    "data = {\n",
    "    'seq': frame['index'],\n",
    "    'title': frame['title'].tolist(),\n",
    "    'description': frame['description'].tolist(),\n",
    "    'token_description': frame['token_description'].tolist()\n",
    "}\n",
    "frame = pandas.DataFrame(data)\n",
    "frame.head(3)"
   ]
  },
  {
   "cell_type": "code",
   "execution_count": 10,
   "metadata": {},
   "outputs": [
    {
     "data": {
      "text/plain": "[TaggedDocument(words=['병지방', '계곡', '캠', '핑장'], tags=[0]),\n TaggedDocument(words=['풍', '수원', '성당', '유물', '전시', '관', '산책', '로'], tags=[1]),\n TaggedDocument(words=['스키', '장', '골프', '장', '곤돌라', '콘'], tags=[2])]"
     },
     "execution_count": 10,
     "metadata": {},
     "output_type": "execute_result"
    }
   ],
   "source": [
    "# Set TaggedDocument, [seq, token]\n",
    "frame_doc = frame[['seq','token_description']].values.tolist()\n",
    "tagged_data = [TaggedDocument(words=_d, tags=[uid]) for uid, _d in frame_doc]\n",
    "tagged_data[:3]"
   ]
  },
  {
   "cell_type": "code",
   "execution_count": 11,
   "metadata": {},
   "outputs": [
    {
     "data": {
      "text/plain": "array([[-8.2193622e-03,  6.7749298e-03, -6.2365090e-03,  5.2402792e-03,\n        -4.6296441e-03, -4.7527459e-03,  2.4112677e-03,  5.7777343e-03,\n        -1.2703657e-03, -5.1266574e-03, -1.7415201e-03,  1.5200340e-03,\n         7.4816141e-03,  1.1664641e-03, -5.5718194e-03,  7.0228814e-03,\n        -1.7327452e-03, -8.0134859e-03,  2.1830511e-03,  6.5284539e-03,\n         2.0196950e-03,  1.3344670e-03, -8.6302888e-03, -1.4463830e-03,\n        -3.6384177e-03, -1.4376461e-03,  4.2982958e-03, -5.0189043e-03,\n        -3.2979273e-03,  6.0618282e-03,  2.3644101e-03, -6.6062331e-04,\n        -8.4960023e-03,  8.7066712e-03,  4.5560561e-03, -4.6418346e-03,\n         7.5713051e-03, -7.0132697e-03, -6.5153148e-03,  3.6592449e-03,\n         7.5526941e-03, -9.8076165e-03,  5.4272129e-03, -8.2187047e-03,\n         7.0318556e-03,  5.1973341e-03,  1.5876698e-03, -5.4299831e-03,\n         7.5712288e-03, -9.9267438e-03,  8.5650627e-03,  1.1790371e-03,\n        -3.8849604e-03,  6.8626092e-03,  1.1697662e-03,  8.6435378e-03,\n        -1.1592471e-03, -4.3920744e-03,  2.1206522e-03,  4.7955285e-03,\n        -4.0982963e-05,  7.9155937e-03, -9.3902657e-03, -1.3651741e-03,\n        -3.9263366e-04, -5.0132619e-03, -4.3503047e-04, -2.4629128e-03,\n         9.6908044e-03,  6.9340039e-03, -2.8083325e-05,  4.9437879e-04,\n         8.5202614e-03, -9.0881996e-03,  1.9592082e-03,  9.3845185e-03,\n         7.0294854e-04, -9.8714354e-03,  2.4092877e-03, -8.9288400e-03,\n        -5.4936018e-03, -7.2597242e-03,  6.5645743e-03, -5.0571309e-03,\n         5.6476868e-03,  9.0139750e-03, -1.3698959e-03, -3.0222666e-03,\n         1.9279898e-03,  3.3574998e-03,  6.1958479e-03,  9.8291012e-03,\n         1.3717902e-03,  9.9756559e-03,  8.9205634e-03, -4.3565761e-03,\n        -4.9003270e-03, -2.8724326e-03,  1.0620725e-03, -3.0619490e-03],\n       [-5.0065112e-03,  1.8349719e-03, -7.8674760e-03, -5.1109551e-04,\n         7.1644781e-06, -6.5995455e-03,  1.2687766e-03,  9.7064935e-03,\n         7.7563333e-03, -6.8870010e-03, -6.2288163e-04, -3.3605110e-03,\n         5.5225599e-03, -1.3010550e-03,  9.8802969e-03, -5.3740861e-03,\n        -7.0093335e-03, -6.2179435e-03, -2.7836037e-03,  5.4721450e-03,\n        -1.3146782e-03, -8.6120293e-03, -3.3151424e-03, -1.7977643e-03,\n         7.5897155e-03, -4.6917712e-03,  4.0400778e-03, -1.0976434e-03,\n        -7.6470338e-03,  3.5486782e-03, -3.4447538e-03,  7.5668953e-03,\n        -5.4414663e-03,  3.2428228e-03, -1.7130065e-03,  3.9637969e-03,\n        -1.8017793e-03,  4.2465927e-05,  3.6103369e-04, -6.1089243e-03,\n        -9.6817287e-03, -7.2410037e-03,  9.2476960e-03,  5.1114238e-03,\n         4.5666634e-03, -1.6105437e-03, -5.5289315e-03,  3.3157861e-03,\n        -9.2453947e-03,  9.5292507e-03,  1.1290431e-03, -2.7548992e-03,\n        -9.4077932e-03, -8.6968899e-04,  4.3089306e-03,  1.8840909e-04,\n         2.7251124e-04, -1.4107703e-04,  4.6806242e-03,  5.5300929e-03,\n         1.8182897e-03, -6.4178002e-03, -5.8948910e-03, -7.6329471e-03,\n        -9.8598031e-03, -6.2329592e-03,  9.2402091e-03, -8.8635543e-03,\n         2.0926916e-03, -9.6269837e-03,  4.0981150e-03, -2.1033871e-03,\n        -7.3728119e-03, -5.3804303e-03, -4.5069098e-04,  3.6693751e-03,\n         3.0422020e-03, -3.9436435e-03,  1.5488481e-03,  5.8876158e-04,\n        -9.8572494e-03,  6.4454842e-03, -5.3935740e-03, -2.4781835e-03,\n        -6.6171335e-03, -5.5468036e-03, -1.8791736e-03, -2.9756106e-03,\n         8.6559523e-03,  3.1641161e-03, -9.2645409e-03,  7.9452582e-03,\n        -9.6335299e-03, -5.8452417e-03,  2.8434598e-03,  3.3224940e-03,\n        -4.8592724e-03, -3.3436692e-03,  4.2577898e-03, -3.1982958e-03],\n       [-8.1892153e-03,  7.6519810e-03, -7.7100229e-03, -9.0373978e-03,\n        -7.1407869e-03,  2.5933802e-03, -2.7639032e-03, -9.5195500e-03,\n        -1.7692447e-04,  2.7876829e-03,  7.4141584e-03, -4.6893477e-04,\n         6.0653938e-03, -7.9782829e-03, -8.7676020e-03,  3.6808706e-03,\n        -3.1494438e-03,  8.8364668e-03,  9.2955469e-04, -4.0483093e-03,\n        -9.1565941e-03, -6.9680368e-03, -6.8767285e-03,  2.7687324e-03,\n         8.8439342e-03, -6.9975303e-03,  3.9242147e-03,  9.8083708e-03,\n         3.6665476e-03,  7.7610626e-03,  4.5209848e-03,  3.8145781e-03,\n         3.2009077e-03, -6.5968679e-03,  8.1156436e-03,  4.1524936e-03,\n         7.0679877e-03,  9.0732481e-03, -9.1997460e-03,  2.6993477e-03,\n        -4.5855734e-03, -3.2238399e-03,  8.8757221e-03,  5.9738038e-03,\n        -6.2743975e-03, -4.9303530e-04, -5.4800403e-03,  5.4461933e-03,\n        -4.6733939e-03, -6.9733285e-03,  5.3802133e-03,  2.3571444e-03,\n         5.3596045e-03, -7.3585119e-03, -5.8857775e-03, -4.3552769e-03,\n        -7.9281665e-03,  7.8941537e-03,  3.5079194e-03, -9.3425130e-03,\n         5.4223277e-03, -9.6496930e-03, -7.4031339e-03, -4.9952627e-03,\n         2.5126529e-03, -5.0304006e-03,  7.6041971e-03, -8.0859184e-04,\n         5.1881587e-03,  7.5204195e-03,  2.1020460e-03,  9.4911233e-03,\n         8.0921659e-03,  8.6111308e-04,  1.4900196e-03, -4.2755916e-03,\n        -9.8705916e-03,  2.3620867e-03,  3.6967099e-03, -3.7320948e-03,\n        -5.2199485e-03, -3.5868944e-03,  3.7726928e-03,  7.6721562e-03,\n         9.2884824e-03,  4.1764020e-03,  5.1885545e-03,  2.3857784e-03,\n        -2.0384563e-03, -7.5771213e-03,  8.9463536e-03, -1.2290692e-03,\n         2.8773737e-03,  6.5432368e-03,  9.1902853e-04,  5.8310344e-03,\n         7.0372010e-03, -1.5161431e-03, -1.3792551e-03,  3.7246095e-03]],\n      dtype=float32)"
     },
     "execution_count": 11,
     "metadata": {},
     "output_type": "execute_result"
    }
   ],
   "source": [
    "# Train\n",
    "model = Doc2Vec(\n",
    "    window=3,          # window: 모델 학습할때 앞뒤로 보는 단어의 수\n",
    "    vector_size=100,    # size: 벡터 차원의 크기\n",
    "    alpha=0.025,        # alpha: learning rate\n",
    "    min_alpha=0.025,\n",
    "    min_count=2,        # min_count: 학습에 사용할 최소 단어 빈도 수\n",
    "    dm = 0,              # dm: 학습방법 1 = PV-DM, 0 = PV-DBOW\n",
    "    negative = 5,       # negative: Complexity Reduction 방법, negative sampling\n",
    "    seed = 9999\n",
    ")\n",
    "\n",
    "\"\"\"\n",
    "epoch\n",
    "한 번의 epoch는 인공 신경망에서 전체 데이터 셋에 대해 forward pass/backward pass 과정을 거친 것을 말함. 즉, 전체 데이터 셋에 대해 한 번 학습을 완료한 상태\n",
    "\n",
    "batch size\n",
    "batch size는 한 번의 batch마다 주는 데이터 샘플의 size. 여기서 batch(보통 mini-batch라고 표현)는 나눠진 데이터 셋을 뜻하며 iteration는 epoch를 나누어서 실행하는 횟수\n",
    "메모리의 한계와 속도 저하 때문에 대부분의 경우에는 한 번의 epoch에서 모든 데이터를 한꺼번에 집어넣을 수는 없습니다. 그래서 데이터를 나누어서 주게 되는데 이때 몇 번 나누어서 주는가를 iteration, 각 iteration마다 주는 데이터 사이즈를 batch size\n",
    "\"\"\"\n",
    "\n",
    "max_epochs = 10\n",
    "model.build_vocab(tagged_data)\n",
    "for epoch in range(max_epochs):\n",
    "    #print('iteration {0}'.format(epoch))\n",
    "    model.train(tagged_data,\n",
    "                total_examples=model.corpus_count,\n",
    "                epochs=model.epochs)\n",
    "    # decrease the learning rate\n",
    "    model.alpha -= 0.002\n",
    "    # fix the learning rate, no decay\n",
    "    model.min_alpha = model.alpha\n",
    "\n",
    "# store the model to mmap-able files\n",
    "#model.save('./model.doc2vec')\n",
    "# load the model back\n",
    "#model_loaded = Doc2Vec.load('./model.doc2vec')\n",
    "\n",
    "model.wv.vectors[:3]"
   ]
  },
  {
   "cell_type": "code",
   "execution_count": 12,
   "metadata": {},
   "outputs": [
    {
     "data": {
      "text/plain": "{'_index': 'vector_sample',\n '_source': {'title': '어답산관광지',\n  'description': '병지방계곡,캠핑장',\n  'description_vector': [-0.0748947337269783,\n   -0.22988615930080414,\n   -0.08189909905195236,\n   0.17290998995304108,\n   0.1827821135520935,\n   0.12810979783535004,\n   -0.07078631967306137,\n   0.08454009145498276,\n   -0.3623679578304291,\n   0.19268381595611572,\n   -0.11035957932472229,\n   0.6212941408157349,\n   -0.07927548140287399,\n   0.043734245002269745,\n   -0.11784594506025314,\n   0.11626014858484268,\n   -0.07579928636550903,\n   0.211054727435112,\n   0.2608567774295807,\n   -0.05996975302696228,\n   0.38847848773002625,\n   0.2800808548927307,\n   -0.5990777015686035,\n   0.04990198463201523,\n   -0.040946103632450104,\n   0.14026056230068207,\n   0.3407301902770996,\n   -0.20144027471542358,\n   -0.13254885375499725,\n   0.1333134025335312,\n   -0.15413813292980194,\n   0.183055117726326,\n   -0.15990939736366272,\n   -0.2609672546386719,\n   0.1399921476840973,\n   0.31228378415107727,\n   0.190694659948349,\n   0.003824211424216628,\n   0.2375672459602356,\n   -0.24624817073345184,\n   -0.08290957659482956,\n   0.0784604474902153,\n   -0.12749479711055756,\n   0.3802047073841095,\n   0.31791529059410095,\n   -0.09025867283344269,\n   -0.05506044253706932,\n   -0.538082480430603,\n   0.05395757779479027,\n   -0.03444564342498779,\n   0.29356083273887634,\n   0.019938239827752113,\n   -0.2289491891860962,\n   -0.14416220784187317,\n   -0.13879504799842834,\n   0.10367240011692047,\n   -0.08854959160089493,\n   0.012848676182329655,\n   -0.04383848235011101,\n   0.29834896326065063,\n   0.1395626664161682,\n   -0.1651216298341751,\n   0.7052658200263977,\n   0.6194197535514832,\n   -0.07331085205078125,\n   -0.32842811942100525,\n   -0.6845564842224121,\n   -0.33249422907829285,\n   0.32577139139175415,\n   -0.4017052948474884,\n   -0.03192659839987755,\n   -0.02817693166434765,\n   -0.12270913273096085,\n   0.02860528603196144,\n   0.28246140480041504,\n   -0.21303510665893555,\n   0.19820640981197357,\n   0.023273002356290817,\n   0.171622171998024,\n   -0.15771232545375824,\n   -0.037240367382764816,\n   -0.05617056041955948,\n   -0.09557650983333588,\n   0.1373317539691925,\n   -0.19546788930892944,\n   -0.007501175627112389,\n   0.12139209359884262,\n   0.10605379194021225,\n   -0.20055268704891205,\n   -0.05768788978457451,\n   0.34618064761161804,\n   -0.22516191005706787,\n   0.0590231791138649,\n   0.1486528366804123,\n   0.14388953149318695,\n   0.26719143986701965,\n   0.17399340867996216,\n   0.16179141402244568,\n   0.35135209560394287,\n   -0.23531629145145416]}}"
     },
     "execution_count": 12,
     "metadata": {},
     "output_type": "execute_result"
    }
   ],
   "source": [
    "# Index docs\n",
    "docs = [\n",
    "    {\n",
    "        '_index': 'vector_sample',\n",
    "        '_source': {\n",
    "            'title': _row['title'],\n",
    "            'description': _row['description'],\n",
    "            'description_vector': model.dv.vectors[_idx,:].tolist()\n",
    "        }\n",
    "    }\n",
    "    for _idx, _row in frame.iterrows()\n",
    "]\n",
    "docs[0]"
   ]
  },
  {
   "cell_type": "code",
   "execution_count": 13,
   "metadata": {},
   "outputs": [],
   "source": [
    "# Set Elasticsearch client ( == 8.5.2 )\n",
    "client = Elasticsearch(hosts='http://127.0.0.1:9200')"
   ]
  },
  {
   "cell_type": "code",
   "execution_count": 14,
   "metadata": {},
   "outputs": [
    {
     "name": "stderr",
     "output_type": "stream",
     "text": [
      "/var/folders/q4/pdvbc9kj56xfjknwwjt6jn600000gn/T/ipykernel_93811/3267374360.py:2: DeprecationWarning: The 'body' parameter is deprecated and will be removed in a future version. Instead use individual parameters.\n",
      "  client.indices.create(index='vector_sample', body={\n"
     ]
    },
    {
     "data": {
      "text/plain": "ObjectApiResponse({'acknowledged': True, 'shards_acknowledged': True, 'index': 'vector_sample'})"
     },
     "execution_count": 14,
     "metadata": {},
     "output_type": "execute_result"
    }
   ],
   "source": [
    "# Create Sample Index\n",
    "client.indices.create(index='vector_sample', body={\n",
    "  \"settings\": {\n",
    "    \"number_of_shards\": 1,\n",
    "    \"number_of_replicas\": 0\n",
    "  },\n",
    "   \"mappings\": {\n",
    "    \"properties\": {\n",
    "      \"title\": {\n",
    "        \"type\": \"keyword\"\n",
    "      },\n",
    "      \"description\": {\n",
    "        \"type\": \"keyword\"\n",
    "      },\n",
    "      \"description_vector\": {\n",
    "        \"type\": \"dense_vector\",\n",
    "        \"dims\": 100\n",
    "      }\n",
    "    }\n",
    "  }\n",
    "}\n",
    ")"
   ]
  },
  {
   "cell_type": "code",
   "execution_count": 15,
   "metadata": {},
   "outputs": [
    {
     "data": {
      "text/plain": "(721, [])"
     },
     "execution_count": 15,
     "metadata": {},
     "output_type": "execute_result"
    }
   ],
   "source": [
    "# Index bulk\n",
    "from elasticsearch import helpers\n",
    "res = helpers.bulk(client, docs)\n",
    "res"
   ]
  },
  {
   "cell_type": "code",
   "execution_count": 17,
   "metadata": {},
   "outputs": [
    {
     "data": {
      "text/plain": "[-0.14725027978420258, -0.20942197740077972, -0.06804680079221725]"
     },
     "execution_count": 17,
     "metadata": {},
     "output_type": "execute_result"
    }
   ],
   "source": [
    "# Search Sample\n",
    "test = model.infer_vector(_do_analysis('옛날 스무나무 아래 약수가 있어 이를 마시고 위장병과 피부병에 효험이 있어 많은 사람이 이 약수를 마시고 덕을 보았다 하여 다덕약수라고 불리움'))\n",
    "test.tolist()[:3]"
   ]
  },
  {
   "cell_type": "code",
   "execution_count": 18,
   "metadata": {},
   "outputs": [
    {
     "data": {
      "text/plain": "{'value': 721, 'relation': 'eq'}"
     },
     "execution_count": 18,
     "metadata": {},
     "output_type": "execute_result"
    }
   ],
   "source": [
    "# Query\n",
    "script_query = {\n",
    "        \"script_score\": {\n",
    "            \"query\": {\"match_all\": {}},\n",
    "            \"script\": {\n",
    "                \"source\": \"cosineSimilarity(params.query_vector, 'description_vector') + 1.0\",\n",
    "                \"params\": {\"query_vector\": test.tolist()}\n",
    "            }\n",
    "        }\n",
    "    }\n",
    "response = client.search(\n",
    "        index=\"vector_sample\",\n",
    "        query=script_query,\n",
    "        size=10,\n",
    "        source_includes=[\"title\", \"description\"]\n",
    "    )\n",
    "response['hits']['total']"
   ]
  },
  {
   "cell_type": "code",
   "execution_count": 19,
   "metadata": {},
   "outputs": [
    {
     "name": "stdout",
     "output_type": "stream",
     "text": [
      "[0:1.9649781] 옛날 스무나무 아래 약수가 있어 이를 마시고 위장병과 피부병에 효험이 있어 많은 사람이 이 약수를 마시고 덕을 보았다 하여 다덕약수라고 불리움\n",
      "[1:1.9122046] 심산계곡에 자리잡은 약수탕은 선달산, 옥석산 아래 깊은 계곡에 위치하고 있고, 약수는 예부터 위장병과 피부병에 효험이 있다.\n",
      "[2:1.786823] 무등산을 느낄 수 있음\n",
      "[3:1.7127932] 데미샘은 3개도 10개 시군에 걸쳐 218.6㎞를 흐르는 우리나라에서 4번째로 긴강인 섬진강의 발원지이다\n",
      "[4:1.7120755] 중탄산 온천수 및 알칼리성 온천수 등 신진대사를 촉진하는 2가지 온천수가 있음\n",
      "[5:1.7029405] 숲과 계곡이 아름다운 청정도량\n",
      "[6:1.7003778] 옛날 석기 시대의 사람들이 이곳에서 살았으리라 짐작되는 혈거동굴로서 연구 가치가 매우 높다. 허준은 허가바위에서 『동의보감』을 완성했다고 한다.\n",
      "[7:1.6945602] 등명해변관광지\n",
      "[8:1.6934646] 온천수  - 수질 : 26.5℃ / PH 9.7(국내 최고의 강 알칼리성 수질)      ▶ 류머티즘, 알레르기성 피부염 등에 탁월한 효과\n",
      "[9:1.6844268] 온천과 약찜의 효능을 한꺼번에 즐길수 있음\n"
     ]
    }
   ],
   "source": [
    "# Result\n",
    "for idx, hit in enumerate(response[\"hits\"][\"hits\"]):\n",
    "    print('[' + str(idx) + ':' + str(hit[\"_score\"]) + '] '  + hit[\"_source\"]['description'])"
   ]
  },
  {
   "cell_type": "code",
   "execution_count": null,
   "outputs": [],
   "source": [],
   "metadata": {
    "collapsed": false
   }
  }
 ],
 "metadata": {
  "kernelspec": {
   "display_name": "Python 3 (ipykernel)",
   "language": "python",
   "name": "python3"
  },
  "language_info": {
   "codemirror_mode": {
    "name": "ipython",
    "version": 3
   },
   "file_extension": ".py",
   "mimetype": "text/x-python",
   "name": "python",
   "nbconvert_exporter": "python",
   "pygments_lexer": "ipython3",
   "version": "3.10.6"
  }
 },
 "nbformat": 4,
 "nbformat_minor": 1
}
